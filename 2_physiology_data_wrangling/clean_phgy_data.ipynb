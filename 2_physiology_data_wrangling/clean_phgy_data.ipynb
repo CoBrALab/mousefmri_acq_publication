{
 "cells": [
  {
   "cell_type": "code",
   "execution_count": 1,
   "id": "fe2e082b",
   "metadata": {},
   "outputs": [],
   "source": [
    "import glob\n",
    "import pandas as pd\n",
    "import os\n",
    "import numpy as np"
   ]
  },
  {
   "cell_type": "markdown",
   "id": "84dfa454",
   "metadata": {},
   "source": [
    "goal: basic preprocessing of the phgy data to extract only the triggered portion and rename. Ideally convert to .py and add to the toolkit. need to rerun"
   ]
  },
  {
   "cell_type": "markdown",
   "id": "0d42374a",
   "metadata": {},
   "source": [
    "# SpO2"
   ]
  },
  {
   "cell_type": "code",
   "execution_count": 3,
   "id": "a5e72ee8",
   "metadata": {},
   "outputs": [
    {
     "data": {
      "text/plain": [
       "45"
      ]
     },
     "execution_count": 3,
     "metadata": {},
     "output_type": "execute_result"
    }
   ],
   "source": [
    "spo2_trace_csv = sorted(glob.glob(\"../../2_raw_data/phgy_data/dx*rates*\"))\n",
    "len(spo2_trace_csv)"
   ]
  },
  {
   "cell_type": "code",
   "execution_count": 4,
   "id": "f317bd50",
   "metadata": {},
   "outputs": [
    {
     "name": "stdout",
     "output_type": "stream",
     "text": [
      "dx1_001_rates - number of extra seconds is: 6\n",
      "dx1_002_rates - number of extra seconds is: 15\n",
      "dx1_003_rates - number of extra seconds is: 5\n",
      "dx1_004_rates - number of extra seconds is: 8\n",
      "dx1_005_rates - number of extra seconds is: 8\n",
      "dx1_006_rates - number of extra seconds is: 24\n",
      "dx1_007_rates - number of extra seconds is: 7\n",
      "dx1_008_rates - number of extra seconds is: 17\n",
      "dx1_009_rates - number of extra seconds is: 17\n",
      "dx1_010_rates - number of extra seconds is: 10\n",
      "dx1_011_rates - number of extra seconds is: 6\n",
      "dx1_012_rates - number of extra seconds is: 8\n",
      "dx1_013_rates - number of extra seconds is: 13\n",
      "dx1_014_rates - number of extra seconds is: 3\n",
      "dx1_015_rates - number of extra seconds is: 3632\n",
      "dx1_016_rates - number of extra seconds is: 11\n",
      "dx2_001_rates - number of extra seconds is: 11\n",
      "dx2_002_rates - number of extra seconds is: 9\n",
      "dx2_003_rates - number of extra seconds is: 6\n",
      "dx2_004_rates - number of extra seconds is: 6\n",
      "dx2_005_rates - number of extra seconds is: 10\n",
      "dx2_007_rates - number of extra seconds is: 5\n",
      "dx2_008_rates - number of extra seconds is: 14\n",
      "dx2_010_rates - number of extra seconds is: 6\n",
      "dx2_011_rates - number of extra seconds is: 11\n",
      "dx2_012_rates - number of extra seconds is: 5\n",
      "dx2_013_rates - number of extra seconds is: 390\n",
      "dx2_014_rates - number of extra seconds is: 2175\n",
      "dx2_015_rates - number of extra seconds is: 11\n",
      "dx2_016_rates - number of extra seconds is: 10\n",
      "dx3_001_rates - number of extra seconds is: 5\n",
      "dx3_002_rates_v2 - number of extra seconds is: 5\n",
      "dx3_003_rates - number of extra seconds is: 4\n",
      "dx3_004_rates - number of extra seconds is: 4\n",
      "dx3_005_rates - number of extra seconds is: 8\n",
      "dx3_006_rates - number of extra seconds is: 9\n",
      "dx3_007_rates - number of extra seconds is: 13\n",
      "dx3_008_rates - number of extra seconds is: 5\n",
      "dx3_009_rates - number of extra seconds is: 6\n",
      "dx3_011_rates - number of extra seconds is: 32\n",
      "dx3_012_rates - number of extra seconds is: 11\n",
      "dx3_013_rates - number of extra seconds is: 8\n",
      "dx3_014_rates - number of extra seconds is: 11\n",
      "dx3_015_rates - number of extra seconds is: 8\n",
      "dx3_016_rates - number of extra seconds is: 14\n"
     ]
    }
   ],
   "source": [
    "for csv in spo2_trace_csv:\n",
    "    filename = os.path.splitext(csv)[0]\n",
    "    filenamebase = os.path.basename(filename)\n",
    "    ses = filenamebase[2:3]\n",
    "    sub = filenamebase[4:7]\n",
    "    sub_ses_ID = 'sub-PHG' + str(sub) + '_ses-' + str(ses)\n",
    "    \n",
    "    spo2_df = pd.read_csv(csv, sep = ',', encoding = 'latin1', names = ['SpO2 (%)'], skiprows = 4, usecols = [5])\n",
    "    spo2_df_clean = spo2_df[(spo2_df['SpO2 (%)'] != 0) & (spo2_df['SpO2 (%)'] != -1)].reset_index(drop = True)\n",
    "    spo2_df_clean_short = spo2_df_clean[0:1440]\n",
    "    print(filenamebase + ' - number of extra seconds is: ' + str((len(spo2_df_clean) - len(spo2_df_clean_short))))\n",
    "    np.savetxt('../../3_preprocessed_data/bids_phgy/' + sub_ses_ID + '_task-rest_physio-spo2.txt', spo2_df_clean_short.values, fmt='%d')"
   ]
  },
  {
   "cell_type": "markdown",
   "id": "45b6bc3d",
   "metadata": {},
   "source": [
    "# Resp"
   ]
  },
  {
   "cell_type": "code",
   "execution_count": 5,
   "id": "c50aa053",
   "metadata": {},
   "outputs": [],
   "source": [
    "resp_trace_csv = sorted(glob.glob(\"../../2_raw_data/phgy_data/dx*resp*\"))\n",
    "resp_param_df = pd.read_csv(os.path.abspath(\"../../3_preprocessed_data/phgy_data/resp_detection_param.csv\"))"
   ]
  },
  {
   "cell_type": "code",
   "execution_count": 6,
   "id": "497d44d2",
   "metadata": {},
   "outputs": [
    {
     "data": {
      "text/plain": [
       "46"
      ]
     },
     "execution_count": 6,
     "metadata": {},
     "output_type": "execute_result"
    }
   ],
   "source": [
    "len(resp_trace_csv)"
   ]
  },
  {
   "cell_type": "code",
   "execution_count": 7,
   "id": "89b1b48e",
   "metadata": {},
   "outputs": [
    {
     "name": "stdout",
     "output_type": "stream",
     "text": [
      "dx1_001_resp - number of extra seconds is: 2.2711111111111113\n",
      "dx1_002_resp - number of extra seconds is: 12.72\n",
      "dx1_003_resp - number of extra seconds is: 6.173333333333333\n",
      "dx1_004_resp - number of extra seconds is: 6.942222222222222\n",
      "dx1_005_resp - number of extra seconds is: 8.342222222222222\n",
      "dx1_006_resp_v2 - number of extra seconds is: 22.06222222222222\n",
      "dx1_007_resp - number of extra seconds is: 7.502222222222223\n",
      "dx1_008_resp - number of extra seconds is: 7.497777777777777\n",
      "dx1_009_resp - number of extra seconds is: 13.11111111111111\n",
      "dx1_010_resp - number of extra seconds is: 6.035555555555556\n",
      "dx1_011_resp - number of extra seconds is: 12.24\n",
      "dx1_012_resp - number of extra seconds is: 7.711111111111111\n",
      "dx1_013_resp - number of extra seconds is: 9.328888888888889\n",
      "dx1_014_resp - number of extra seconds is: 4.702222222222222\n",
      "dx1_015_resp - number of extra seconds is: 3442.088888888889\n",
      "dx1_016_resp - number of extra seconds is: 8.395555555555555\n",
      "dx2_001_resp - number of extra seconds is: 7.591111111111111\n",
      "dx2_002_resp - number of extra seconds is: 8.115555555555556\n",
      "dx2_003_resp - number of extra seconds is: 6.8533333333333335\n",
      "dx2_004_resp - number of extra seconds is: 3.6044444444444443\n",
      "dx2_005_resp - number of extra seconds is: 7.493333333333333\n",
      "dx2_007_resp - number of extra seconds is: 4.124444444444444\n",
      "dx2_008_resp - number of extra seconds is: 11.813333333333333\n",
      "dx2_010_resp - number of extra seconds is: 4.168888888888889\n",
      "dx2_011_resp - number of extra seconds is: 7.751111111111111\n",
      "dx2_012_resp - number of extra seconds is: 6.817777777777778\n",
      "dx2_013_resp - number of extra seconds is: 403.1911111111111\n",
      "dx2_014_resp - number of extra seconds is: 312.3466666666667\n",
      "dx2_015_resp - number of extra seconds is: 12.204444444444444\n",
      "dx2_016_resp - number of extra seconds is: 6.8\n",
      "dx3_001_resp - number of extra seconds is: 5.6177777777777775\n",
      "dx3_002_resp_v2 - number of extra seconds is: 11.022222222222222\n",
      "dx3_003_resp - number of extra seconds is: 5.4622222222222225\n",
      "dx3_004_resp - number of extra seconds is: 3.933333333333333\n",
      "dx3_005_resp - number of extra seconds is: 4.666666666666667\n",
      "dx3_006_resp - number of extra seconds is: 7.2844444444444445\n",
      "dx3_007_resp - number of extra seconds is: 10.11111111111111\n",
      "dx3_008_resp - number of extra seconds is: 5.897777777777778\n",
      "dx3_009_resp - number of extra seconds is: 11.386666666666667\n",
      "dx3_010_resp - number of extra seconds is: 6.5377777777777775\n",
      "dx3_011_resp - number of extra seconds is: 33.69777777777778\n",
      "dx3_012_resp - number of extra seconds is: 8.666666666666666\n",
      "dx3_013_resp - number of extra seconds is: 8.617777777777778\n",
      "dx3_014_resp - number of extra seconds is: 13.942222222222222\n",
      "dx3_015_resp - number of extra seconds is: 8.36888888888889\n",
      "dx3_016_resp - number of extra seconds is: 11.066666666666666\n"
     ]
    }
   ],
   "source": [
    "for csv in resp_trace_csv:\n",
    "    filename = os.path.splitext(csv)[0]\n",
    "    filenamebase = os.path.basename(filename)\n",
    "    ses = filenamebase[2:3]\n",
    "    sub = filenamebase[4:7]\n",
    "    sub_ses_ID = 'sub-PHG' + str(sub) + '_ses-' + str(ses)\n",
    "    \n",
    "    #extract the detection parameters for that subject and save in separate csv\n",
    "    sub_specific_resp_param_df = resp_param_df[resp_param_df['sub_ses'] == sub_ses_ID]\n",
    "    sub_specific_resp_param_df_clean = sub_specific_resp_param_df.drop(columns = ['invert_bool', 'sub_ses'], \n",
    "                                                                       axis = 1).reset_index(drop = True)\n",
    "    sub_specific_resp_param_df_clean.to_csv('../../3_preprocessed_data/phgy_data/' + sub_ses_ID + '_resp_detection_param.csv',\n",
    "                                     sep='/', index = False)\n",
    "    \n",
    "    df = pd.read_csv(csv).set_axis(['check', 'value'], axis=1)\n",
    "    df1 = df[df['check'] != 0].reset_index(drop = True)\n",
    "    df2 = df1.drop(columns = ['check'], axis = 1)\n",
    "    df3 = df2[0:324000]\n",
    "    print(filenamebase + ' - number of extra seconds is: ' + str((len(df2) - len(df3))/225))\n",
    "    np.savetxt('../../3_preprocessed_data/bids_phgy/' + sub_ses_ID + '_task-rest_physio-respiration.txt', df3.values, fmt='%d')"
   ]
  },
  {
   "cell_type": "markdown",
   "id": "6ea73f3e",
   "metadata": {},
   "source": [
    "# Pulseox"
   ]
  },
  {
   "cell_type": "code",
   "execution_count": 8,
   "id": "29e6aeb5",
   "metadata": {},
   "outputs": [],
   "source": [
    "pulseox_trace_csv = sorted(glob.glob(\"../../2_raw_data/phgy_data/*pulseox*\"))\n",
    "pulseox_param_df = pd.read_csv(\"../../3_preprocessed_data/phgy_data/cardiac_detection_param.csv\")"
   ]
  },
  {
   "cell_type": "code",
   "execution_count": 9,
   "id": "1cd267dd",
   "metadata": {},
   "outputs": [
    {
     "data": {
      "text/plain": [
       "46"
      ]
     },
     "execution_count": 9,
     "metadata": {},
     "output_type": "execute_result"
    }
   ],
   "source": [
    "len(pulseox_trace_csv)"
   ]
  },
  {
   "cell_type": "code",
   "execution_count": 10,
   "id": "a7f57bf6",
   "metadata": {},
   "outputs": [
    {
     "name": "stdout",
     "output_type": "stream",
     "text": [
      "dx1_001_pulseox - number of extra seconds is: 1.0377777777777777\n",
      "dx1_002_pulseox - number of extra seconds is: 14.062222222222223\n",
      "dx1_003_pulseox - number of extra seconds is: 7.18\n",
      "dx1_004_pulseox - number of extra seconds is: 8.328888888888889\n",
      "dx1_005_pulseox - number of extra seconds is: 9.44\n",
      "dx1_006_pulseox_v2 - number of extra seconds is: 24.58888888888889\n",
      "dx1_007_pulseox - number of extra seconds is: 8.344444444444445\n",
      "dx1_008_pulseox - number of extra seconds is: 12.842222222222222\n",
      "dx1_009_pulseox - number of extra seconds is: 11.313333333333333\n",
      "dx1_010_pulseox - number of extra seconds is: 6.375555555555556\n",
      "dx1_011_pulseox - number of extra seconds is: 9.12\n",
      "dx1_012_pulseox - number of extra seconds is: 6.673333333333333\n",
      "dx1_013_pulseox - number of extra seconds is: 9.275555555555556\n",
      "dx1_014_pulseox - number of extra seconds is: 3.8133333333333335\n",
      "dx1_015_pulseox - number of extra seconds is: 3442.3133333333335\n",
      "dx1_016_pulseox - number of extra seconds is: 8.473333333333333\n",
      "dx2_001_pulseox - number of extra seconds is: 10.986666666666666\n",
      "dx2_002_pulseox - number of extra seconds is: 9.455555555555556\n",
      "dx2_003_pulseox - number of extra seconds is: 7.68\n",
      "dx2_004_pulseox - number of extra seconds is: 5.108888888888889\n",
      "dx2_005_pulseox - number of extra seconds is: 8.753333333333334\n",
      "dx2_007_pulseox - number of extra seconds is: 4.973333333333334\n",
      "dx2_008_pulseox - number of extra seconds is: 13.173333333333334\n",
      "dx2_010_pulseox - number of extra seconds is: 4.297777777777778\n",
      "dx2_011_pulseox - number of extra seconds is: 7.033333333333333\n",
      "dx2_012_pulseox - number of extra seconds is: 5.737777777777778\n",
      "dx2_013_pulseox - number of extra seconds is: 398.86\n",
      "dx2_014_pulseox - number of extra seconds is: 312.74444444444447\n",
      "dx2_015_pulseox - number of extra seconds is: 10.204444444444444\n",
      "dx2_016_pulseox - number of extra seconds is: 5.691111111111111\n",
      "dx3_001_pulseox - number of extra seconds is: 7.2444444444444445\n",
      "dx3_002_pulseox_v2 - number of extra seconds is: 7.933333333333334\n",
      "dx3_003_pulseox - number of extra seconds is: 5.097777777777778\n",
      "dx3_004_pulseox - number of extra seconds is: 4.886666666666667\n",
      "dx3_005_pulseox - number of extra seconds is: 6.075555555555556\n",
      "dx3_006_pulseox - number of extra seconds is: 9.055555555555555\n",
      "dx3_007_pulseox - number of extra seconds is: 11.753333333333334\n",
      "dx3_008_pulseox - number of extra seconds is: 6.748888888888889\n",
      "dx3_009_pulseox - number of extra seconds is: 8.386666666666667\n",
      "dx3_010_pulseox - number of extra seconds is: 6.586666666666667\n",
      "dx3_011_pulseox - number of extra seconds is: 32.82888888888889\n",
      "dx3_012_pulseox - number of extra seconds is: 8.873333333333333\n",
      "dx3_013_pulseox - number of extra seconds is: 6.811111111111111\n",
      "dx3_014_pulseox - number of extra seconds is: 13.962222222222222\n",
      "dx3_015_pulseox - number of extra seconds is: 9.493333333333334\n",
      "dx3_016_pulseox - number of extra seconds is: 11.4\n"
     ]
    }
   ],
   "source": [
    "for csv in pulseox_trace_csv:\n",
    "    filename = os.path.splitext(csv)[0]\n",
    "    filenamebase = os.path.basename(filename)\n",
    "    ses = filenamebase[2:3]\n",
    "    sub = filenamebase[4:7]\n",
    "    sub_ses_ID = 'sub-PHG' + str(sub) + '_ses-' + str(ses)\n",
    "    \n",
    "    #extract the detection parameters for that subject and save in separate csv\n",
    "    sub_specific_pulseox_param_df = pulseox_param_df[pulseox_param_df['sub_ses'] == sub_ses_ID]\n",
    "    sub_specific_pulseox_param_df_clean = sub_specific_pulseox_param_df.drop(columns = ['invert_bool', 'sub_ses',\n",
    "                                                                                       'wavelet_band_width',\n",
    "                                                                                        'wavelet_peak_dist',\n",
    "                                                                                       'num_bands_to_detect',\n",
    "                                                                                       'num_to_avg'], \n",
    "                                                                       axis = 1).reset_index(drop = True)\n",
    "    sub_specific_pulseox_param_df_clean.to_csv('../../3_preprocessed_data/phgy_data/' + sub_ses_ID + '_pulseox_detection_param.csv',\n",
    "                                     sep='/', index = False)\n",
    "\n",
    "    #extract 24 min, 1 column only, valid data only\n",
    "    df = pd.read_csv(csv).set_axis(['check', 'value'], axis=1)\n",
    "    df1 = df[df['check'] != 0].reset_index(drop = True)\n",
    "    df2 = df1.drop(columns = ['check'], axis = 1)\n",
    "    df3 = df2[0:1440*450]\n",
    "    print(filenamebase + ' - number of extra seconds is: ' + str((len(df2) - len(df3))/450))\n",
    "    np.savetxt('../../3_preprocessed_data/bids_phgy/' + sub_ses_ID + '_task-rest_physio-plethysmography.txt', df3.values, fmt='%d')"
   ]
  },
  {
   "cell_type": "markdown",
   "id": "0827d286",
   "metadata": {},
   "source": [
    "dx1_015, dx2_013 and dx2_014 all have notes in the original scanning log explaining that I forgot to stop the data capture, which explains the extra data."
   ]
  },
  {
   "cell_type": "markdown",
   "id": "124b74be",
   "metadata": {},
   "source": [
    "dx3_010 is missing for the spo2"
   ]
  },
  {
   "cell_type": "code",
   "execution_count": null,
   "id": "951a02c3",
   "metadata": {},
   "outputs": [],
   "source": []
  }
 ],
 "metadata": {
  "kernelspec": {
   "display_name": "Python 3 (ipykernel)",
   "language": "python",
   "name": "python3"
  },
  "language_info": {
   "codemirror_mode": {
    "name": "ipython",
    "version": 3
   },
   "file_extension": ".py",
   "mimetype": "text/x-python",
   "name": "python",
   "nbconvert_exporter": "python",
   "pygments_lexer": "ipython3",
   "version": "3.8.8"
  },
  "toc": {
   "base_numbering": 1,
   "nav_menu": {},
   "number_sections": true,
   "sideBar": true,
   "skip_h1_title": false,
   "title_cell": "Table of Contents",
   "title_sidebar": "Contents",
   "toc_cell": false,
   "toc_position": {},
   "toc_section_display": true,
   "toc_window_display": false
  }
 },
 "nbformat": 4,
 "nbformat_minor": 5
}
